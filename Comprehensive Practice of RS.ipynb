{
 "cells": [
  {
   "cell_type": "code",
   "execution_count": 1,
   "metadata": {},
   "outputs": [],
   "source": [
    "import numpy as np\n",
    "import matplotlib.pyplot as plt\n",
    "import xlrd\n",
    "from sklearn.decomposition import PCA\n",
    "from sklearn.neural_network import MLPRegressor\n",
    "from sklearn.model_selection import train_test_split"
   ]
  },
  {
   "cell_type": "code",
   "execution_count": 2,
   "metadata": {},
   "outputs": [],
   "source": [
    "def ReflfileName(num):\n",
    "    if num // 100 != 0:\n",
    "        return \"an03r0\" + str(num) + \".txt\"\n",
    "    if num // 10 != 0:\n",
    "        return \"an03r00\" + str(num) + \".txt\"\n",
    "    return \"an03r000\" + str(num) + \".txt\""
   ]
  },
  {
   "cell_type": "code",
   "execution_count": 4,
   "metadata": {},
   "outputs": [],
   "source": [
    "filename = \"D:\\\\_cprs_data\\\\_4\\\\\"\n",
    "data = xlrd.open_workbook(filename + \"LDB_angers2003.xls\")\n",
    "table = data.sheets()[1]\n",
    "title = table.row_values(0)\n",
    "indexName = [\"C_a\", \"C_b\", \"C_ab\", \"C_car\", \"EWT\", \"LMA\"]\n",
    "index = np.zeros(len(indexName))\n",
    "for i in range(len(title)):\n",
    "    for j in range(len(indexName)):\n",
    "        if title[i] == indexName[j]:\n",
    "            index[j] = i\n",
    "nrows = table.nrows - 1\n",
    "Ca = np.zeros(nrows)\n",
    "Cb = np.zeros(nrows)\n",
    "Cab = np.zeros(nrows)\n",
    "Ccar = np.zeros(nrows)\n",
    "EWT = np.zeros(nrows)\n",
    "LMA = np.zeros(nrows)\n",
    "for i in range(nrows):\n",
    "    Ca[i] = table.cell_value(i + 1, index[0].astype(np.int32))\n",
    "    Cb[i] = table.cell_value(i + 1, index[1].astype(np.int32))\n",
    "    Cab[i] = table.cell_value(i + 1, index[2].astype(np.int32))\n",
    "    Ccar[i] = table.cell_value(i + 1, index[3].astype(np.int32))\n",
    "    EWT[i] = table.cell_value(i + 1, index[4].astype(np.int32))\n",
    "    LMA[i] = table.cell_value(i + 1, index[5].astype(np.int32))\n",
    "psize = np.loadtxt(filename + ReflfileName(1)).shape[0]\n",
    "dsize = nrows\n",
    "dataset = np.zeros([dsize, psize])\n",
    "for i in range(dsize):\n",
    "    dataset[i] = np.loadtxt(filename + ReflfileName(i + 1)).T[1]\n",
    "pca = PCA(n_components = 3)\n",
    "pcad = pca.fit_transform(dataset)"
   ]
  },
  {
   "cell_type": "code",
   "execution_count": 58,
   "metadata": {},
   "outputs": [
    {
     "data": {
      "text/plain": [
       "4.86531798236941"
      ]
     },
     "execution_count": 58,
     "metadata": {},
     "output_type": "execute_result"
    }
   ],
   "source": [
    "X_train, X_test, y_train, y_test = train_test_split(pcad, Ca, test_size = 0.3, random_state = 0)\n",
    "model = MLPRegressor(hidden_layer_sizes = (1000,), activation = 'logistic', shuffle = False, max_iter = 2000, random_state = 42, early_stopping = True, learning_rate_init = 0.08)\n",
    "model.fit(X_train, y_train)\n",
    "pre = model.predict(X_test)\n",
    "np.sqrt(((y_test - pre) ** 2).mean())"
   ]
  },
  {
   "cell_type": "code",
   "execution_count": 62,
   "metadata": {},
   "outputs": [
    {
     "data": {
      "text/plain": [
       "<matplotlib.collections.PathCollection at 0x19ad2ec1788>"
      ]
     },
     "execution_count": 62,
     "metadata": {},
     "output_type": "execute_result"
    },
    {
     "data": {
      "image/png": "[encoded data removed]",
      "text/plain": [
       "<Figure size 432x288 with 1 Axes>"
      ]
     },
     "metadata": {
      "needs_background": "light"
     },
     "output_type": "display_data"
    }
   ],
   "source": [
    "plt.scatter(y_test, pre)"
   ]
  },
  {
   "cell_type": "code",
   "execution_count": 161,
   "metadata": {},
   "outputs": [],
   "source": []
  },
  {
   "cell_type": "code",
   "execution_count": 164,
   "metadata": {},
   "outputs": [
    {
     "data": {
      "text/plain": [
       "(193,)"
      ]
     },
     "execution_count": 164,
     "metadata": {},
     "output_type": "execute_result"
    }
   ],
   "source": [
    "y_train.shape"
   ]
  },
  {
   "cell_type": "code",
   "execution_count": null,
   "metadata": {},
   "outputs": [],
   "source": []
  }
 ],
 "metadata": {
  "kernelspec": {
   "display_name": "Python 3",
   "language": "python",
   "name": "python3"
  },
  "language_info": {
   "codemirror_mode": {
    "name": "ipython",
    "version": 3
   },
   "file_extension": ".py",
   "mimetype": "text/x-python",
   "name": "python",
   "nbconvert_exporter": "python",
   "pygments_lexer": "ipython3",
   "version": "3.7.7"
  }
 },
 "nbformat": 4,
 "nbformat_minor": 4
}
